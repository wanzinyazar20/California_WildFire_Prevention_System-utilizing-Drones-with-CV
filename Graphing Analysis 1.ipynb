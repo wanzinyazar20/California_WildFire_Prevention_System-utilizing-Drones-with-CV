version https://git-lfs.github.com/spec/v1
oid sha256:c7e8b069526f007a06d23c5cde2c4649163844248354a26b1ac3c028d40da37a
size 13749220
