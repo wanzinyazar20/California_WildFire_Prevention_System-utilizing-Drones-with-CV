version https://git-lfs.github.com/spec/v1
oid sha256:860688e8a736cdad49763dcecf41edfc04256f4514c8d9d0f2a8275681d04efc
size 23161
