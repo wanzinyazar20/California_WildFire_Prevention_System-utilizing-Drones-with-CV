version https://git-lfs.github.com/spec/v1
oid sha256:a3929075b0fef64765dbff2cdd31f333970c6cd326bcdca3b7ebd5c7d808a32e
size 13801973
