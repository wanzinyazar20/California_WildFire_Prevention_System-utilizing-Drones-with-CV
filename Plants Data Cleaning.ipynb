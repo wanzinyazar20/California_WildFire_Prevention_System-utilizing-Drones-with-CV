version https://git-lfs.github.com/spec/v1
oid sha256:54be798e46d6fa2edca4936bd84c9733722114ab14d90d2cc41c83cda94397d6
size 24366
