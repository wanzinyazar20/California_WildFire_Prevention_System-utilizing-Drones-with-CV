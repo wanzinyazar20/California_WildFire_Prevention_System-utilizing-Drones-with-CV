version https://git-lfs.github.com/spec/v1
oid sha256:5a2fa7827993bb357c7904d4af25a285a21f9e151ead6ec36c2670959bbdedbe
size 6205331
